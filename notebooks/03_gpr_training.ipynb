{
 "cells": [
  {
   "cell_type": "markdown",
   "metadata": {},
   "source": [
    "# 03 GPR Model Training"
   ]
  },
  {
   "cell_type": "markdown",
   "metadata": {},
   "source": [
    "## General Notebook Setup"
   ]
  },
  {
   "cell_type": "code",
   "execution_count": 1,
   "metadata": {},
   "outputs": [],
   "source": [
    "%load_ext autoreload\n",
    "%autoreload 2"
   ]
  },
  {
   "cell_type": "code",
   "execution_count": 2,
   "metadata": {},
   "outputs": [],
   "source": [
    "import sys  # nopep8\n",
    "sys.path.append('../')  # nopep8\n",
    "\n",
    "import os\n",
    "import time\n",
    "import pickle\n",
    "\n",
    "import numpy as np\n",
    "import pandas as pd\n",
    "import chaospy as cp\n",
    "\n",
    "import seaborn as sns\n",
    "\n",
    "from sklearn.gaussian_process import GaussianProcessRegressor\n",
    "from sklearn.gaussian_process.kernels import RBF, WhiteKernel\n",
    "from sklearn.metrics import mean_squared_error, mean_absolute_error, r2_score\n",
    "\n",
    "\n",
    "from helper_functions import setup_plot, store_plot, get_joint\n",
    "\n",
    "sns.set_theme(style=\"whitegrid\", palette=\"bright\")\n",
    "bright_palette = sns.color_palette(\"bright\")\n",
    "\n",
    "from UQpy.surrogates import * # This is somehow required to not have warnings during fit"
   ]
  },
  {
   "cell_type": "markdown",
   "metadata": {},
   "source": [
    "## Functions"
   ]
  },
  {
   "cell_type": "markdown",
   "metadata": {},
   "source": [
    "### Data Selection"
   ]
  },
  {
   "cell_type": "code",
   "execution_count": 3,
   "metadata": {},
   "outputs": [],
   "source": [
    "def load_sim_data(ipath, case_matrix, case_data):\n",
    "    \"\"\"\n",
    "    Load and combine simulation data from case matrix and case data files.\n",
    "\n",
    "    Args:\n",
    "        ipath (str): Directory path to the data files.\n",
    "        case_matrix (str): Filename of the case matrix CSV file.\n",
    "        case_data (str): Filename of the case data CSV file.\n",
    "\n",
    "    Returns:\n",
    "        pandas.DataFrame: Combined DataFrame of cases and case data.\n",
    "    \"\"\"\n",
    "    case_matrix_path = os.path.join(ipath, case_matrix)\n",
    "    case_data_path = os.path.join(ipath, case_data)\n",
    "    cases = pd.read_csv(case_matrix_path)\n",
    "    case_data = pd.read_csv(case_data_path).sort_values(\n",
    "        by=['Case']).reset_index(drop=True)\n",
    "    return pd.concat([cases, case_data], axis=1)\n",
    "\n",
    "def get_training_data(data, num_samples, num_replications, target, moment='mean'):\n",
    "    \"\"\"\n",
    "    Retrieves a subset of training data with specified samples and replications, and computes the\n",
    "    mean or standard deviation for the target variable based on the specified moment.\n",
    "\n",
    "    Args:\n",
    "        data (DataFrame): The complete dataset from which to extract training data.\n",
    "        num_samples (int): The number of unique samples to retrieve.\n",
    "        num_replications (int): The number of replications for each unique sample.\n",
    "        target (str): The target variable to predict.\n",
    "        moment (str, optional): The statistical moment to compute for the target variable over its replications.\n",
    "                                Accepts 'mean' or 'sdv' (standard deviation). Defaults to 'mean'.\n",
    "\n",
    "    Returns:\n",
    "        numpy.ndarray: The feature matrix for training, with each unique sample's features replicated.\n",
    "        numpy.ndarray: The feature matrix after applying the forward transformation from the joint distribution.\n",
    "        pandas.Series: The target variable, aggregated by the specified moment across its replications.\n",
    "    \"\"\"\n",
    "\n",
    "    target_mapping = {\n",
    "        'Tower_Sdv': 'TwHtALxt_[m/s^]_sdv',\n",
    "        'Tower_Max': 'TwHtALxt_[m/s^]_max',\n",
    "        'Blade_Mean': 'RootMyb_[kN-m]_mean',\n",
    "        'Blade_Max': 'RootMyb_[kN-m]_max'\n",
    "    }\n",
    "    target = target_mapping.get(target, None)\n",
    "    filtered_df = pd.DataFrame()\n",
    "    unique_samples = data.iloc[0:num_samples, 0:4]\n",
    "\n",
    "    for i in range(len(unique_samples)):\n",
    "        # Calculate the starting and ending row indices for each feature combination\n",
    "        idx_list = [i+j*300 for j in range(num_replications)]\n",
    "        temp_df = data.iloc[idx_list, :]\n",
    "        filtered_df = pd.concat([filtered_df, temp_df])\n",
    "    clean_df = filtered_df.dropna(how='any', axis=0)\n",
    "\n",
    "    if len(filtered_df) - len(clean_df) == 0:\n",
    "        pass\n",
    "    else:\n",
    "        print(\n",
    "            f\"{len(filtered_df) - len(clean_df)} rows were removed from the training data\")\n",
    "\n",
    "    if num_replications > 1:\n",
    "        if moment == 'mean':\n",
    "            clean_df = clean_df.groupby(list(clean_df.columns[0:4]))[\n",
    "                target].mean().reset_index()\n",
    "        elif moment == 'sdv':\n",
    "            clean_df = clean_df.groupby(list(clean_df.columns[0:4]))[\n",
    "                target].std().reset_index()\n",
    "\n",
    "    x_train = clean_df.iloc[:, 0:4]\n",
    "    y_train = clean_df.loc[:, target]\n",
    "    distribution = get_joint(input_path_scada)\n",
    "    x_train = np.array(x_train).T\n",
    "    x_train_uniform = distribution.fwd(x_train)\n",
    "\n",
    "    return x_train.T, x_train_uniform.T, y_train\n",
    "\n",
    "def get_validation_data(data, target, moment='mean'):\n",
    "    \"\"\"\n",
    "    Processes the validation data by grouping it according to feature combinations and computing the\n",
    "    specified statistical moment (mean or standard deviation) of the target variable.\n",
    "\n",
    "    Args:\n",
    "        data (DataFrame): The dataset from which to extract validation data.\n",
    "        target (str): The name of the target variable in the dataset.\n",
    "        moment (str, optional): The statistical moment to compute for the target variable over its replications.\n",
    "                                Accepts 'mean' for mean value or 'sdv' for standard deviation. Defaults to 'mean'.\n",
    "\n",
    "    Returns:\n",
    "        numpy.ndarray: The feature matrix for validation, with each unique sample's features.\n",
    "        numpy.ndarray: The feature matrix after applying the forward transformation from the joint distribution.\n",
    "        pandas.Series or numpy.ndarray: The aggregated target variable using the specified statistical moment.\n",
    "    \"\"\"\n",
    "\n",
    "    target_mapping = {\n",
    "        'Tower_Sdv': 'TwHtALxt_[m/s^]_sdv',\n",
    "        'Tower_Max': 'TwHtALxt_[m/s^]_max',\n",
    "        'Blade_Mean': 'RootMyb_[kN-m]_mean',\n",
    "        'Blade_Max': 'RootMyb_[kN-m]_max'\n",
    "    }\n",
    "    target = target_mapping.get(target, None)\n",
    "\n",
    "    if moment == 'mean':\n",
    "        val_data = data.groupby(list(data.columns[0:4]))[\n",
    "            target].mean().reset_index()\n",
    "    elif moment == 'sdv':\n",
    "        val_data = data.groupby(list(data.columns[0:4]))[\n",
    "            target].std().reset_index()\n",
    "\n",
    "    x_val = val_data.iloc[:, 0:4]\n",
    "    y_val = val_data.loc[:, target]\n",
    "    distribution = get_joint(input_path_scada)\n",
    "    x_val = np.array(x_val).T\n",
    "    x_val_uniform = distribution.fwd(x_val)\n",
    "\n",
    "    return x_val.T, x_val_uniform.T, y_val"
   ]
  },
  {
   "cell_type": "markdown",
   "metadata": {},
   "source": [
    "### Model Training and Validation"
   ]
  },
  {
   "cell_type": "code",
   "execution_count": 4,
   "metadata": {},
   "outputs": [],
   "source": [
    "def custom_scorer(y_true, y_pred):\n",
    "    \"\"\"\n",
    "    Calculate normalized root mean squared error (nRMSE), normalized mean absolute error (nMAE),\n",
    "    and mean absolute error (MAE) between true and predicted values.\n",
    "\n",
    "    The function normalizes the RMSE and MAE by the mean of the true values to account for scale variations\n",
    "    and allow for comparison across different datasets.\n",
    "\n",
    "    Args:\n",
    "        y_true (array-like): True target values.\n",
    "        y_pred (array-like): Predicted target values.\n",
    "\n",
    "    Returns:\n",
    "        dict: A dictionary containing the following metrics:\n",
    "              - nRMSE (float): Normalized root mean squared error.\n",
    "              - nMAE (float): Normalized mean absolute error.\n",
    "              - MAE (float): Mean absolute error.\n",
    "    \"\"\"\n",
    "    # Calculate the mean of the true values\n",
    "    true_mean = np.mean(y_true)\n",
    "\n",
    "    # Calculate mean squared error and normalize it\n",
    "    mse = mean_squared_error(y_true, y_pred)\n",
    "    nrmse = np.sqrt(mse) / true_mean\n",
    "    # Calculate mean absolute error and normalize it\n",
    "    mae = mean_absolute_error(y_true, y_pred)\n",
    "    nmae = mae / true_mean\n",
    "\n",
    "    r2 = r2_score(y_true, y_pred)\n",
    "\n",
    "    # return {'nRMSE': nrmse, 'nMAE': nmae, 'MAE': mae, 'R2': r2}\n",
    "    # return {'nRMSE': nrmse, 'nMAE': nmae, 'MAE': mae}\n",
    "    return {'nRMSE': nrmse, 'nMAE': nmae}\n",
    "\n",
    "def built_gpr(x_train_uniform, y_train):\n",
    "    \"\"\"\n",
    "    Build and fit a Gaussian Process Regressor (GPR) model.\n",
    "\n",
    "    Args:\n",
    "        x_train_uniform (numpy.ndarray): The training feature data after uniform transformation.\n",
    "        y_train (pandas.Series): The target values for training.\n",
    "\n",
    "    Returns:\n",
    "        GaussianProcessRegressor: The fitted GPR model.\n",
    "        float: The elapsed time in seconds for fitting the model.\n",
    "    \"\"\"\n",
    "    start_time = time.time()\n",
    "    kernel = 1.0 * RBF(length_scale=[1, 1, 1, 1], length_scale_bounds=(1e-2, 1e3)) + WhiteKernel(\n",
    "        noise_level=1e-2, noise_level_bounds=(1e-10, 1e10)\n",
    "    )\n",
    "    random_int = 42\n",
    "    gpr = GaussianProcessRegressor(\n",
    "        kernel=kernel, n_restarts_optimizer=20, random_state=random_int)\n",
    "    gpr.fit(x_train_uniform, y_train)\n",
    "    end_time = time.time()\n",
    "    elapsed_time = end_time - start_time\n",
    "    return gpr, elapsed_time\n",
    "\n",
    "def convergence_analysis_val(target, num_samples_range, df_train, df_test, moment):\n",
    "    \"\"\"\n",
    "    Perform validation convergence analysis by training GPR models on training data \n",
    "    and evaluating them on a test set across a range of sample sizes and replications.\n",
    "\n",
    "    Args:\n",
    "        target (str): The target variable for prediction.\n",
    "        num_samples_range (tuple): The range of sample sizes to train the model.\n",
    "        num_replications_range (tuple): The range of replications for each sample size.\n",
    "        df_train (DataFrame): The training dataset.\n",
    "        df_test (DataFrame): The test dataset for validation.\n",
    "\n",
    "    Returns:\n",
    "        DataFrame: A DataFrame containing timing data for model training.\n",
    "        DataFrame: A DataFrame containing the validation scores for each metric.\n",
    "    \"\"\"\n",
    "    timing_data = []\n",
    "    scores_data = []\n",
    "\n",
    "    for num_samples in np.arange(*num_samples_range):\n",
    "        _, x_train_uniform, y_train = get_training_data(\n",
    "            df_train, num_samples, 30, target, moment)\n",
    "        gpr, elapsed_time = built_gpr(x_train_uniform, y_train)\n",
    "        scores = validate_gpr(gpr, df_test, target, moment)\n",
    "\n",
    "        timing_data.append({\n",
    "            'Num_Samples': num_samples,\n",
    "            'Num_Replications': 30,\n",
    "            'Time (s)': elapsed_time\n",
    "        })\n",
    "\n",
    "        for metric in scores.keys():\n",
    "            scores_data.append({\n",
    "                'Num_Samples': num_samples,\n",
    "                'Num_Replications': 30,\n",
    "                'Metric': metric,\n",
    "                'Score': scores[metric]\n",
    "            })\n",
    "\n",
    "    # Convert lists of dictionaries to DataFrames\n",
    "    df_timing = pd.DataFrame(timing_data)\n",
    "    df_scores = pd.DataFrame(scores_data)\n",
    "\n",
    "    return df_timing, df_scores\n",
    "\n",
    "def validate_gpr(gpr_model, df_test, target, moment):\n",
    "    \"\"\"\n",
    "    Validate a Gaussian Process Regressor model on a test dataset.\n",
    "\n",
    "    Args:\n",
    "        gpr_model (GaussianProcessRegressor): The trained GPR model to be validated.\n",
    "        df_test (DataFrame): The test dataset for validation.\n",
    "        target (str): The target variable for prediction.\n",
    "\n",
    "    Returns:\n",
    "        dict: A dictionary with mean validation scores for the predictions.\n",
    "        dict: A dictionary with validation scores for the predicted standard deviations.\n",
    "    \"\"\"\n",
    "    _, x_val_uniform, y_val = get_validation_data(\n",
    "        df_test, target, moment=moment)\n",
    "\n",
    "    y_pred_mean = gpr_model.predict(x_val_uniform)\n",
    "\n",
    "    scores = custom_scorer(y_val, y_pred_mean)\n",
    "\n",
    "    return scores"
   ]
  },
  {
   "cell_type": "markdown",
   "metadata": {},
   "source": [
    "#### Helpers"
   ]
  },
  {
   "cell_type": "code",
   "execution_count": 5,
   "metadata": {},
   "outputs": [],
   "source": [
    "def merge_moments(df_mean, df_sdv):\n",
    "    \"\"\"\n",
    "    Merges two DataFrames containing the results for mean and standard deviation moments into a single DataFrame.\n",
    "\n",
    "    Args:\n",
    "        df_mean (DataFrame): A DataFrame containing the convergence analysis results for the mean moment.\n",
    "        df_sdv (DataFrame): A DataFrame containing the convergence analysis results for the standard deviation moment.\n",
    "\n",
    "    Returns:\n",
    "        DataFrame: A concatenated DataFrame with results for both mean and standard deviation moments,\n",
    "                   with an additional column indicating the 'Moment'.\n",
    "    \"\"\"\n",
    "\n",
    "    df_mean['Moment'] = 'mean'\n",
    "    df_sdv['Moment'] = 'sdv'\n",
    "    return pd.concat([df_mean, df_sdv])\n",
    "\n",
    "def convergence_wrapper(target, sample_range, df_train, df_test=None):\n",
    "    \"\"\"\n",
    "    Runs the convergence analysis for a given target using specified parameters and returns the combined results\n",
    "    for mean and standard deviation moments.\n",
    "\n",
    "    Args:\n",
    "        target (str): The target variable for the convergence analysis.\n",
    "        poly_order_range (tuple): A tuple specifying the range of polynomial orders to test.\n",
    "        regressor (str): The type of regression model to use for analysis.\n",
    "        sample_range (tuple): A tuple specifying the range of sample sizes to test.\n",
    "        num_replications (int): The number of times to replicate each sample for the analysis.\n",
    "        strat (str): Strategy to use for analysis; 'cv' for cross-validation or 'val' for validation.\n",
    "        df_train (DataFrame): The training dataset.\n",
    "        df_test (DataFrame, optional): The testing dataset. Only required if 'strat' is 'val'.\n",
    "\n",
    "    Returns:\n",
    "        DataFrame: A DataFrame with the combined results of convergence analysis for both mean and standard deviation moments.\n",
    "\n",
    "    Raises:\n",
    "        ValueError: If the provided strategy is not one of 'cv' or 'val'.\n",
    "    \"\"\"\n",
    "    _, mean_score = convergence_analysis_val(target, sample_range, df_train, df_test, moment='mean')\n",
    "    _, sdv_score = convergence_analysis_val(target, sample_range, df_train, df_test, moment='sdv')\n",
    "\n",
    "    return merge_moments(mean_score, sdv_score)\n",
    "\n",
    "def store_models(model_dict):\n",
    "    \"\"\"\n",
    "    Serializes and stores a dictionary of models to a pickle file.\n",
    "\n",
    "    This function takes a dictionary containing models, serializes it using Python's pickle module,\n",
    "    and writes it to a file named 'pce_models.pickle' located in the 'models' directory. \n",
    "\n",
    "    Args:\n",
    "        model_dict (dict): A dictionary where keys are model identifiers and values are model objects.\n",
    "\n",
    "    Returns:\n",
    "        None: This function does not return any value. It saves the serialized object to a file.\n",
    "\n",
    "    Raises:\n",
    "        IOError: If the function cannot write to the specified file location.\n",
    "        PicklingError: If an error occurs during the serialization process.\n",
    "    \"\"\"\n",
    "    # Ensure 'models' directory exists, if not, create it\n",
    "    os.makedirs('models', exist_ok=True)\n",
    "    \n",
    "    # Open the file and dump the dictionary into it using the highest pickle protocol\n",
    "    with open(os.path.join(os.path.dirname(os.getcwd()), r\"data\\models\\gpr_models.pickle\"), 'wb') as handle:\n",
    "        pickle.dump(model_dict, handle)\n",
    "        \n",
    "def display_scores_table(scores_dict):\n",
    "    \"\"\"\n",
    "    Creates a table from the scores dictionary and prints it.\n",
    "\n",
    "    Args:\n",
    "        scores_dict (dict): A nested dictionary where the first key is the target,\n",
    "                            the second key is the moment ('mean' or 'sdv'),\n",
    "                            and the value is another dictionary with metric names and their corresponding scores.\n",
    "\n",
    "    Returns:\n",
    "        DataFrame: A pandas DataFrame representing the scores table for display.\n",
    "    \"\"\"\n",
    "    score_rows = []\n",
    "\n",
    "    # Collect data\n",
    "    for target, moments in scores_dict.items():\n",
    "        for moment, metrics in moments.items():\n",
    "            for metric, value in metrics.items():\n",
    "                score_rows.append({\n",
    "                    'Target': target,\n",
    "                    'Moment': moment,\n",
    "                    'Metric': metric,\n",
    "                    'Value': value.round(2)\n",
    "                })\n",
    "\n",
    "    scores_df = pd.DataFrame(score_rows)\n",
    "\n",
    "    scores_pivot = scores_df.pivot_table(\n",
    "        index=['Target', 'Moment'], columns='Metric', values='Value', aggfunc='first')\n",
    "\n",
    "    scores_pivot.reset_index(inplace=True)\n",
    "\n",
    "    return scores_pivot"
   ]
  },
  {
   "cell_type": "markdown",
   "metadata": {},
   "source": [
    "### Plots"
   ]
  },
  {
   "cell_type": "code",
   "execution_count": 6,
   "metadata": {},
   "outputs": [],
   "source": [
    "def plot_convergence_val(df, target):\n",
    "    \"\"\"\n",
    "    Plot convergence results based on validation samples across different metrics.\n",
    "\n",
    "    Args:\n",
    "        df (DataFrame): A DataFrame containing validation scores for various metrics, moments, number of samples,\n",
    "                        and replications.\n",
    "\n",
    "    The function creates a FacetGrid of line plots with a separate subplot for each metric and moment. The results\n",
    "    are color-coded by the number of replications to show how the scores change with the number of samples.\n",
    "    \"\"\"\n",
    "    df_cp = df.copy()\n",
    "    mapping_dict = {\n",
    "        'mean': '$\\mu$',\n",
    "        'sdv': '$\\sigma$'}\n",
    "\n",
    "    df_cp.Moment = [mapping_dict[name] for name in df_cp.Moment]\n",
    "\n",
    "    FIG_WIDTH, FIG_HEIGHT  = setup_plot(.6)\n",
    "    FIG_WIDTH, FIG_HEIGHT = FIG_WIDTH*.7, FIG_HEIGHT*.7\n",
    "    sub_height = FIG_HEIGHT/2\n",
    "    sub_width = FIG_WIDTH/2\n",
    "    g = sns.FacetGrid(df_cp, col=\"Metric\", row='Moment', margin_titles=True, sharey=False,\n",
    "                    height=sub_height,  aspect=sub_width / sub_height)\n",
    "\n",
    "    g.map_dataframe(sns.lineplot, \"Num_Samples\", \"Score\", marker='o')\n",
    "\n",
    "    g.set_axis_labels(\"Number of Samples\", \"Score [-]\")\n",
    "    g.set_titles(col_template=\"{col_name}\",\n",
    "                row_template=\"{row_name}\")\n",
    "\n",
    "    #store_plot(g, f\"GPR_alt_conv_plot_{target}.png\")"
   ]
  },
  {
   "cell_type": "markdown",
   "metadata": {},
   "source": [
    "## Model Convergence"
   ]
  },
  {
   "cell_type": "markdown",
   "metadata": {},
   "source": [
    "Here the model convergence behvaiour is analysed by training the models with varying number of training samples. Before model training, the samples are initially normalized using the Rosenblatt transformation, to ensure an even scaling of all features.\n",
    "Using Scikit-learn, the GPRs are setup using the RBF kernel modified with a noise term. The parameter optimization is internally conducted using the log marginal likelihood method. We allow ten restarts of the optimizer to address the limitation that the chosen tuning method might not always find the global minima. \n",
    "\n",
    "Model fit is evaluated on the validation set using the normalized MAE and RMSE defined as follows:\n",
    "$$\\text{nMAE} = \\frac{1}{N \\cdot \\bar{y}} \\sum_{i=1}^{N} |y_i - \\hat{y}_i|,$$\n",
    "\n",
    "$$\\text{nRMSE} = \\frac{\\sqrt{\\frac{1}{N} \\sum_{i=1}^{N} (y_i - \\hat{y}_i)^2}}{\\bar{y}}.$$\n",
    "Here, $y_i$ is the true value, $\\hat{y}_i$ is the predicted value, $N$ is the number of data points, and $\\bar{y}$ is the mean of the true values.\n"
   ]
  },
  {
   "cell_type": "markdown",
   "metadata": {},
   "source": [
    "### Initial Setup"
   ]
  },
  {
   "cell_type": "code",
   "execution_count": 7,
   "metadata": {},
   "outputs": [],
   "source": [
    "input_path_sim = os.path.join(os.path.dirname(os.getcwd()), r\"data\\simulation\")\n",
    "input_path_scada = os.path.join(os.path.dirname(os.getcwd()), r\"data\\scada\")\n",
    "\n",
    "df = load_sim_data(input_path_sim, 'casematrix.csv', 'surrogate_data.csv')\n",
    "df_train = df.iloc[0:9000, :]\n",
    "df_test = df.iloc[9000:, :]\n",
    "\n",
    "timing_dict_cv = {}\n",
    "timing_dict_val = {}\n",
    "scoring_dict_cv = {}\n",
    "scoring_dict_val = {}\n",
    "\n",
    "sample_range = (50, 300+1, 50)"
   ]
  },
  {
   "cell_type": "markdown",
   "metadata": {},
   "source": [
    "### Blade Loads\n",
    "First the model convergence is plotted for the mean ($M_\\text{blade,mean}$) and maximum ($M_\\text{blade,max}$) flapwise bending moments at the blade root. Hereby, $\\mu$ will represent the mean response over the seed-to-seed uncertainty while $\\sigma$ is the corresponding standard deviation."
   ]
  },
  {
   "cell_type": "markdown",
   "metadata": {},
   "source": [
    "#### GPR - $M_\\text{blade,mean}$"
   ]
  },
  {
   "cell_type": "code",
   "execution_count": 8,
   "metadata": {},
   "outputs": [
    {
     "data": {
      "image/png": "[encoded data removed]",
      "text/plain": [
       "<Figure size 440.945x264.567 with 4 Axes>"
      ]
     },
     "metadata": {},
     "output_type": "display_data"
    }
   ],
   "source": [
    "target = 'Blade_Mean'\n",
    "scoring_dict_cv[target] = convergence_wrapper(target, sample_range, df_train, df_test)\n",
    "plot_convergence_val(scoring_dict_cv[target], target)"
   ]
  },
  {
   "cell_type": "markdown",
   "metadata": {},
   "source": [
    "#### GPR - $M_\\text{blade,max}$"
   ]
  },
  {
   "cell_type": "code",
   "execution_count": 9,
   "metadata": {},
   "outputs": [
    {
     "data": {
      "image/png": "[encoded data removed]",
      "text/plain": [
       "<Figure size 440.945x264.567 with 4 Axes>"
      ]
     },
     "metadata": {},
     "output_type": "display_data"
    }
   ],
   "source": [
    "target = 'Blade_Max'\n",
    "scoring_dict_cv[target] = convergence_wrapper(target, sample_range, df_train, df_test)\n",
    "plot_convergence_val(scoring_dict_cv[target], target)"
   ]
  },
  {
   "cell_type": "markdown",
   "metadata": {},
   "source": [
    "### Tower Acceleration\n",
    "Next, model fits are explored for the standard ($\\ddot{x}_\\text{tower,std}$) deviation and maximum ($\\ddot{x}_\\text{tower,max}$) tower-top acceleration in the fore-aft direction."
   ]
  },
  {
   "cell_type": "markdown",
   "metadata": {},
   "source": [
    "#### GPR - $\\ddot{x}_\\text{tower,std}$"
   ]
  },
  {
   "cell_type": "code",
   "execution_count": 10,
   "metadata": {},
   "outputs": [
    {
     "data": {
      "image/png": "[encoded data removed]",
      "text/plain": [
       "<Figure size 440.945x264.567 with 4 Axes>"
      ]
     },
     "metadata": {},
     "output_type": "display_data"
    }
   ],
   "source": [
    "target = 'Tower_Sdv'\n",
    "scoring_dict_cv[target] = convergence_wrapper(target, sample_range, df_train, df_test)\n",
    "plot_convergence_val(scoring_dict_cv[target], target)"
   ]
  },
  {
   "cell_type": "markdown",
   "metadata": {},
   "source": [
    "#### GPR - $\\ddot{x}_\\text{tower,max}$"
   ]
  },
  {
   "cell_type": "code",
   "execution_count": 11,
   "metadata": {},
   "outputs": [
    {
     "data": {
      "image/png": "[encoded data removed]",
      "text/plain": [
       "<Figure size 440.945x264.567 with 4 Axes>"
      ]
     },
     "metadata": {},
     "output_type": "display_data"
    }
   ],
   "source": [
    "target = 'Tower_Max'\n",
    "scoring_dict_cv[target] = convergence_wrapper(target, sample_range, df_train, df_test)\n",
    "plot_convergence_val(scoring_dict_cv[target], target)"
   ]
  },
  {
   "cell_type": "markdown",
   "metadata": {},
   "source": [
    "## Model Generation\n",
    "This trains and stores the models for the case study application."
   ]
  },
  {
   "cell_type": "code",
   "execution_count": 12,
   "metadata": {},
   "outputs": [
    {
     "name": "stdout",
     "output_type": "stream",
     "text": [
      "Metric      Target Moment  nMAE  nRMSE\n",
      "0        Blade_Max   mean  0.22   0.25\n",
      "1        Blade_Max    sdv  0.83   0.94\n",
      "2       Blade_Mean   mean  0.02   0.03\n",
      "3       Blade_Mean    sdv  0.12   0.16\n",
      "4        Tower_Max   mean  0.23   0.31\n",
      "5        Tower_Max    sdv  3.94   7.09\n",
      "6        Tower_Sdv   mean  0.03   0.06\n",
      "7        Tower_Sdv    sdv  0.27   0.44\n"
     ]
    }
   ],
   "source": [
    "targets = [\"Blade_Mean\", \"Blade_Max\", \"Tower_Sdv\", \"Tower_Max\"]\n",
    "\n",
    "gpr_models = {target: dict.fromkeys(['mean', 'sdv']) for target in targets}\n",
    "scores = {target: dict.fromkeys(['mean', 'sdv']) for target in targets}\n",
    "num_sampels = 300\n",
    "num_replications = 30\n",
    "\n",
    "df = load_sim_data(input_path_sim, 'casematrix.csv', 'surrogate_data.csv')\n",
    "df_train = df.iloc[0:9000, :]\n",
    "df_test = df.iloc[9000:, :]\n",
    "dict_full_scores_cv = {}\n",
    "dict_full_scores_val = {}\n",
    "\n",
    "for target in targets:\n",
    "    _, x_train_uniform, y_train_mean = get_training_data(\n",
    "        df_train, num_sampels, num_replications, target, moment='mean')\n",
    "    _, _, y_train_sdv = get_training_data(\n",
    "        df_train, num_sampels, num_replications, target, moment='sdv')\n",
    "\n",
    "    gpr_models[target]['mean'], _ = built_gpr(x_train_uniform, y_train_mean)\n",
    "    gpr_models[target]['sdv'], _ = built_gpr(x_train_uniform, y_train_sdv)\n",
    "\n",
    "\n",
    "    scores[target]['mean'] = validate_gpr(\n",
    "        gpr_models[target]['mean'], df_test, target, 'mean')\n",
    "    scores[target]['sdv'] = validate_gpr(\n",
    "        gpr_models[target]['sdv'], df_test, target, 'sdv')\n",
    "\n",
    "scores_table = display_scores_table(scores)\n",
    "print(scores_table)\n",
    "store_models(gpr_models)"
   ]
  }
 ],
 "metadata": {
  "kernelspec": {
   "display_name": "Masterthesis",
   "language": "python",
   "name": "python3"
  },
  "language_info": {
   "codemirror_mode": {
    "name": "ipython",
    "version": 3
   },
   "file_extension": ".py",
   "mimetype": "text/x-python",
   "name": "python",
   "nbconvert_exporter": "python",
   "pygments_lexer": "ipython3",
   "version": "3.11.1"
  },
  "orig_nbformat": 4
 },
 "nbformat": 4,
 "nbformat_minor": 2
}
